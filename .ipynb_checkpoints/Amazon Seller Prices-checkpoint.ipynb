{
 "cells": [
  {
   "cell_type": "code",
   "execution_count": 1,
   "metadata": {},
   "outputs": [
    {
     "name": "stderr",
     "output_type": "stream",
     "text": [
      "/usr/lib/python3/dist-packages/requests/__init__.py:80: RequestsDependencyWarning: urllib3 (1.26.6) or chardet (3.0.4) doesn't match a supported version!\n",
      "  RequestsDependencyWarning)\n"
     ]
    }
   ],
   "source": [
    "import pandas as pd\n",
    "from bs4 import BeautifulSoup\n",
    "import requests\n",
    "from selenium import webdriver\n",
    "import multiprocessing as mp\n",
    "import time"
   ]
  },
  {
   "cell_type": "code",
   "execution_count": null,
   "metadata": {},
   "outputs": [],
   "source": [
    "driver = webdriver.Chrome('/home/jitesh/Documents/chromedriver/chromedriver')"
   ]
  },
  {
   "cell_type": "code",
   "execution_count": 2,
   "metadata": {},
   "outputs": [],
   "source": [
    "headers = {'User-Agent': 'Mozilla/5.0 (Windows NT 10.0; Win64; x64) AppleWebKit/537.36 (KHTML, like Gecko) Chrome/58.0.3029.110 Safari/537.3'}"
   ]
  },
  {
   "cell_type": "code",
   "execution_count": 3,
   "metadata": {},
   "outputs": [],
   "source": [
    "def search_asin(driver, asin):\n",
    "    url=\"https://www.amazon.in/dp/\" + asin\n",
    "    print(url)\n",
    "    try:\n",
    "        page = driver.get(url)\n",
    "    except Exception as exp:\n",
    "        return None\n",
    "    return driver.page_source"
   ]
  },
  {
   "cell_type": "code",
   "execution_count": 4,
   "metadata": {},
   "outputs": [],
   "source": [
    "def extract_main_item_data(soup):\n",
    "    pt_obj = soup.find(\"span\", {\"id\" : \"productTitle\"})\n",
    "    prod_title = pt_obj.text if pt_obj else \"Item Name Not Found\"\n",
    "    \n",
    "    pr_obj = soup.find(\"span\", {\"id\" : \"priceblock_ourprice\"})\n",
    "    price = pr_obj.text if pr_obj else \"Item Price Not Found\"\n",
    "    price = int(float(price[2:].replace(',',''))) if price else price\n",
    "    \n",
    "    seller_obj = soup.find(\"a\", {\"id\" : \"sellerProfileTriggerId\"})\n",
    "    seller = seller_obj.text if seller_obj else \"Item Seller Not Found\"\n",
    "    \n",
    "    return {\"Title\" : prod_title.strip(),\n",
    "            \"Price\" : price,\n",
    "            \"Seller\" : seller.strip()}"
   ]
  },
  {
   "cell_type": "code",
   "execution_count": 5,
   "metadata": {},
   "outputs": [],
   "source": [
    "def search_offers(driver, asin):\n",
    "    endpoint = \"/ref=olp_aod_redir_impl1?_encoding=UTF8&aod=1\"\n",
    "    url=\"https://www.amazon.in/dp/\" + asin + endpoint\n",
    "    print(url)\n",
    "    try:\n",
    "        page = driver.get(url)\n",
    "    except Exception as exp:\n",
    "        return None\n",
    "    return driver.page_source"
   ]
  },
  {
   "cell_type": "code",
   "execution_count": 6,
   "metadata": {},
   "outputs": [],
   "source": [
    "def extract_offer_data(soup, prod_title):\n",
    "    all_details = []\n",
    "    all_offers = soup.find_all(\"div\", {\"id\" : \"aod-offer\"})\n",
    "    if all_offers:\n",
    "        for aod in all_offers:\n",
    "            price = int(float(aod.find(\"div\", {\"id\" : \"aod-offer-price\"}).find(\"span\", {\"class\" : \"a-price-whole\"}).text.replace(',','')))\n",
    "            seller = aod.find(\"div\", {\"id\" : \"aod-offer-soldBy\"}).find(\"a\", {\"class\" : \"a-size-small a-link-normal\"}).text\n",
    "            final_data = {\"Title\": prod_title.strip(), \"Price\" : price, \"Seller\" : seller.strip()}\n",
    "            all_details.append(final_data)\n",
    "    return all_details"
   ]
  },
  {
   "cell_type": "code",
   "execution_count": 7,
   "metadata": {},
   "outputs": [],
   "source": [
    "def get_chrome_options():\n",
    "    options = webdriver.ChromeOptions()\n",
    "    options.add_argument('--headless')   \n",
    "    options.add_argument('--disable-extensions')   \n",
    "    options.add_argument('--disable-gpu')   \n",
    "    options.add_argument(\"--no-sandbox\")   \n",
    "    options.add_argument(\"--window-size=1920,1080\")   \n",
    "    options.add_argument('--disable-dev-shm-usage')\n",
    "    \n",
    "    return options"
   ]
  },
  {
   "cell_type": "code",
   "execution_count": 17,
   "metadata": {},
   "outputs": [],
   "source": [
    "def get_asin_result(q,asin):\n",
    "    options = get_chrome_options()\n",
    "    driver = webdriver.Chrome('/home/jitesh/Documents/chromedriver/chromedriver', options=options)\n",
    "    \n",
    "    single_result = []\n",
    "    main_page = search_asin(driver, asin)\n",
    "    if main_page:\n",
    "        main_page_soup = BeautifulSoup(main_page, 'html.parser')\n",
    "        main_page_data = extract_main_item_data(main_page_soup)\n",
    "        single_result.append(main_page_data)\n",
    "\n",
    "    offer_page = search_offers(driver, asin)\n",
    "    if offer_page:\n",
    "        offer_page_soup = BeautifulSoup(offer_page, 'html.parser')\n",
    "        offer_page_data = extract_offer_data(offer_page_soup,\n",
    "                                             main_page_data.get(\"Title\") if main_page else \"No Title\")\n",
    "        single_result.extend(offer_page_data)\n",
    "    driver.quit()\n",
    "    df = pd.DataFrame(data=single_result)\n",
    "    q.put(df)"
   ]
  },
  {
   "cell_type": "code",
   "execution_count": 20,
   "metadata": {},
   "outputs": [],
   "source": [
    "def trigger_main():\n",
    "    all_asins = ['B078SSQZBF',\n",
    "                 'B078SRMZSN',\n",
    "                 'B078SRMSJZ',\n",
    "                 'B078STJDRN',\n",
    "                 'B078SR4PS2',\n",
    "                 'B078SNPXPT',\n",
    "                 'B078ST6XQW',\n",
    "                 'B078SNN7H3']\n",
    "    all_results = mp.Queue()\n",
    "    all_dfs = []\n",
    "    pool = mp.Pool(processes=mp.cpu_count())\n",
    "    start_time = time.time()\n",
    "#     all_results = [pool.apply(get_asin_result, args = (asin,)) for asin in all_asins]\n",
    "#     pool.close()\n",
    "    processes = [mp.Process(target=get_asin_result, args = (all_results, asin)) for asin in all_asins]\n",
    "    for p in processes: p.start()\n",
    "    for p in processes: p.join()\n",
    "    \n",
    "    for p in processes: all_dfs.append(all_results.get())\n",
    "    print(\"Total Time:- {}\".format(time.time() - start_time))\n",
    "    final_result = pd.concat(all_dfs)\n",
    "    return final_result"
   ]
  },
  {
   "cell_type": "code",
   "execution_count": 31,
   "metadata": {},
   "outputs": [],
   "source": [
    "def main():\n",
    "    all_asins = ['B078SSQZBF',\n",
    "                 'B078SRMZSN',\n",
    "                 'B078SRMSJZ',\n",
    "                 'B078STJDRN',\n",
    "                 'B078SR4PS2',\n",
    "                 'B078SNPXPT',\n",
    "                 'B078ST6XQW',\n",
    "                 'B078SNN7H3']\n",
    "    full_results = []\n",
    "    for asin in all_asins:\n",
    "        single_result = []\n",
    "        main_page = search_asin(asin)\n",
    "        if main_page:\n",
    "            main_page_soup = BeautifulSoup(main_page, 'html.parser')\n",
    "            main_page_data = extract_main_item_data(main_page_soup)\n",
    "            single_result.append(main_page_data)\n",
    "        \n",
    "        offer_page = search_offers(asin)\n",
    "        if offer_page:\n",
    "            offer_page_soup = BeautifulSoup(offer_page, 'html.parser')\n",
    "            offer_page_data = extract_offer_data(offer_page_soup,\n",
    "                                                 main_page_data.get(\"Title\") if main_page else \"No Title\")\n",
    "            single_result.extend(offer_page_data)\n",
    "        full_results.extend(single_result)\n",
    "    \n",
    "    final_result = pd.DataFrame(data = full_results)\n",
    "    driver.quit()\n",
    "    return final_result"
   ]
  },
  {
   "cell_type": "code",
   "execution_count": 21,
   "metadata": {
    "collapsed": true
   },
   "outputs": [
    {
     "name": "stdout",
     "output_type": "stream",
     "text": [
      "https://www.amazon.in/dp/B078SRMSJZ\n",
      "https://www.amazon.in/dp/B078SRMZSN\n",
      "https://www.amazon.in/dp/B078SR4PS2\n",
      "https://www.amazon.in/dp/B078SNPXPT\n",
      "https://www.amazon.in/dp/B078ST6XQW\n",
      "https://www.amazon.in/dp/B078STJDRN\n",
      "https://www.amazon.in/dp/B078SNN7H3\n",
      "https://www.amazon.in/dp/B078SSQZBF\n",
      "https://www.amazon.in/dp/B078SSQZBF/ref=olp_aod_redir_impl1?_encoding=UTF8&aod=1\n",
      "https://www.amazon.in/dp/B078SNN7H3/ref=olp_aod_redir_impl1?_encoding=UTF8&aod=1\n",
      "https://www.amazon.in/dp/B078SRMZSN/ref=olp_aod_redir_impl1?_encoding=UTF8&aod=1\n",
      "https://www.amazon.in/dp/B078STJDRN/ref=olp_aod_redir_impl1?_encoding=UTF8&aod=1\n",
      "https://www.amazon.in/dp/B078ST6XQW/ref=olp_aod_redir_impl1?_encoding=UTF8&aod=1\n",
      "https://www.amazon.in/dp/B078SR4PS2/ref=olp_aod_redir_impl1?_encoding=UTF8&aod=1\n",
      "https://www.amazon.in/dp/B078SRMSJZ/ref=olp_aod_redir_impl1?_encoding=UTF8&aod=1\n",
      "https://www.amazon.in/dp/B078SNPXPT/ref=olp_aod_redir_impl1?_encoding=UTF8&aod=1\n",
      "Total Time:- 127.65690755844116\n"
     ]
    }
   ],
   "source": [
    "res = trigger_main()"
   ]
  },
  {
   "cell_type": "code",
   "execution_count": 34,
   "metadata": {},
   "outputs": [
    {
     "data": {
      "text/html": [
       "<div>\n",
       "<style scoped>\n",
       "    .dataframe tbody tr th:only-of-type {\n",
       "        vertical-align: middle;\n",
       "    }\n",
       "\n",
       "    .dataframe tbody tr th {\n",
       "        vertical-align: top;\n",
       "    }\n",
       "\n",
       "    .dataframe thead th {\n",
       "        text-align: right;\n",
       "    }\n",
       "</style>\n",
       "<table border=\"1\" class=\"dataframe\">\n",
       "  <thead>\n",
       "    <tr style=\"text-align: right;\">\n",
       "      <th></th>\n",
       "      <th></th>\n",
       "      <th></th>\n",
       "    </tr>\n",
       "    <tr>\n",
       "      <th>Title</th>\n",
       "      <th>Price</th>\n",
       "      <th>Seller</th>\n",
       "    </tr>\n",
       "  </thead>\n",
       "  <tbody>\n",
       "    <tr>\n",
       "      <th rowspan=\"2\" valign=\"top\">M.G ENTERPRISE Acrylic Feather Soft Hand Knitting Wool Yarn (200 g)</th>\n",
       "      <th rowspan=\"2\" valign=\"top\">363</th>\n",
       "      <th>Cloudtail India</th>\n",
       "    </tr>\n",
       "    <tr>\n",
       "      <th>M.G Enterprise</th>\n",
       "    </tr>\n",
       "    <tr>\n",
       "      <th rowspan=\"2\" valign=\"top\">M.G ENTERPRISE Acrylic Soft Cream Hand Knitting Wool (200 g)</th>\n",
       "      <th>313</th>\n",
       "      <th>M.G Enterprise</th>\n",
       "    </tr>\n",
       "    <tr>\n",
       "      <th>327</th>\n",
       "      <th>Cloudtail India</th>\n",
       "    </tr>\n",
       "    <tr>\n",
       "      <th>M.G ENTERPRISE Acrylic Soft Iris Hand Knitting Wool (200 g)</th>\n",
       "      <th>350</th>\n",
       "      <th>M.G Enterprise</th>\n",
       "    </tr>\n",
       "    <tr>\n",
       "      <th>M.G ENTERPRISE Acrylic Soft Wool Yarn (300 g, Lavender)</th>\n",
       "      <th>490</th>\n",
       "      <th>M.G Enterprise</th>\n",
       "    </tr>\n",
       "    <tr>\n",
       "      <th rowspan=\"2\" valign=\"top\">M.G ENTERPRISE Feather Soft Black Hand Knitting Wool Yarn, 200 gm</th>\n",
       "      <th>350</th>\n",
       "      <th>M.G Enterprise</th>\n",
       "    </tr>\n",
       "    <tr>\n",
       "      <th>363</th>\n",
       "      <th>Cloudtail India</th>\n",
       "    </tr>\n",
       "    <tr>\n",
       "      <th rowspan=\"2\" valign=\"top\">M.G ENTERPRISE Feather Soft Lavender Needle Knitting Acrylic Wool (200 g, Multicolour)</th>\n",
       "      <th rowspan=\"2\" valign=\"top\">363</th>\n",
       "      <th>Cloudtail India</th>\n",
       "    </tr>\n",
       "    <tr>\n",
       "      <th>M.G Enterprise</th>\n",
       "    </tr>\n",
       "    <tr>\n",
       "      <th>M.G ENTERPRISE Feather Soft Needle Knitting Acrylic Wool (200 g, Black)</th>\n",
       "      <th>350</th>\n",
       "      <th>M.G Enterprise</th>\n",
       "    </tr>\n",
       "    <tr>\n",
       "      <th rowspan=\"2\" valign=\"top\">M.G ENTERPRISE Feather Soft Needle Knitting Acrylic Wool (200 g, Candy Red)</th>\n",
       "      <th>350</th>\n",
       "      <th>M.G Enterprise</th>\n",
       "    </tr>\n",
       "    <tr>\n",
       "      <th>363</th>\n",
       "      <th>Cloudtail India</th>\n",
       "    </tr>\n",
       "  </tbody>\n",
       "</table>\n",
       "</div>"
      ],
      "text/plain": [
       "Empty DataFrame\n",
       "Columns: []\n",
       "Index: [(M.G ENTERPRISE Acrylic Feather Soft Hand Knitting Wool Yarn (200 g), 363, Cloudtail India), (M.G ENTERPRISE Acrylic Feather Soft Hand Knitting Wool Yarn (200 g), 363, M.G Enterprise), (M.G ENTERPRISE Acrylic Soft Cream Hand Knitting Wool (200 g), 313, M.G Enterprise), (M.G ENTERPRISE Acrylic Soft Cream Hand Knitting Wool (200 g), 327, Cloudtail India), (M.G ENTERPRISE Acrylic Soft Iris Hand Knitting Wool (200 g), 350, M.G Enterprise), (M.G ENTERPRISE Acrylic Soft Wool Yarn (300 g, Lavender), 490, M.G Enterprise), (M.G ENTERPRISE Feather Soft Black Hand Knitting Wool Yarn, 200 gm, 350, M.G Enterprise), (M.G ENTERPRISE Feather Soft Black Hand Knitting Wool Yarn, 200 gm, 363, Cloudtail India), (M.G ENTERPRISE Feather Soft Lavender Needle Knitting Acrylic Wool (200 g, Multicolour), 363, Cloudtail India), (M.G ENTERPRISE Feather Soft Lavender Needle Knitting Acrylic Wool (200 g, Multicolour), 363, M.G Enterprise), (M.G ENTERPRISE Feather Soft Needle Knitting Acrylic Wool (200 g, Black), 350, M.G Enterprise), (M.G ENTERPRISE Feather Soft Needle Knitting Acrylic Wool (200 g, Candy Red), 350, M.G Enterprise), (M.G ENTERPRISE Feather Soft Needle Knitting Acrylic Wool (200 g, Candy Red), 363, Cloudtail India)]"
      ]
     },
     "execution_count": 34,
     "metadata": {},
     "output_type": "execute_result"
    }
   ],
   "source": [
    "res.set_index([\"Title\", \"Price\", \"Seller\"]).sort_index()"
   ]
  },
  {
   "cell_type": "code",
   "execution_count": 27,
   "metadata": {},
   "outputs": [],
   "source": [
    "with open(\"/home/jitesh/Downloads/Amazon links.txt\") as read_file:\n",
    "    data = read_file.readlines()"
   ]
  },
  {
   "cell_type": "code",
   "execution_count": 30,
   "metadata": {
    "collapsed": true
   },
   "outputs": [
    {
     "data": {
      "text/plain": [
       "['B078SSQZBF',\n",
       " 'B078SRMZSN',\n",
       " 'B078SRMSJZ',\n",
       " 'B078STJDRN',\n",
       " 'B078SR4PS2',\n",
       " 'B078SNPXPT',\n",
       " 'B078ST6XQW',\n",
       " 'B078SNN7H3',\n",
       " 'B078SQQH59',\n",
       " 'B078SR4RDX',\n",
       " 'B078STH72Q',\n",
       " 'B078STJ4WP',\n",
       " 'B078SSYKGN',\n",
       " 'B078ST3VCY',\n",
       " 'B078SSCBTQ',\n",
       " 'B08V5DWC23',\n",
       " 'B08THXQW3M',\n",
       " 'B07YDV79CL',\n",
       " 'B07YDTS226',\n",
       " 'B07YDV1TT7',\n",
       " 'B08TWSQRMZ',\n",
       " 'B08TWT2ST7',\n",
       " 'B08TWTLR18',\n",
       " 'B092S76MX2',\n",
       " 'B092S6BCFD',\n",
       " 'B092S7JWQT',\n",
       " 'B092S77S5W',\n",
       " 'B091Z4N58N',\n",
       " 'B01B5HZ5FG',\n",
       " 'B08JH4W19Y',\n",
       " 'B08JH4FG7K',\n",
       " 'B08JH567XW',\n",
       " 'B08JDZ8FD6',\n",
       " 'B08JH4KXTP',\n",
       " 'B08JH5MMQ7',\n",
       " 'B08JH4K62D',\n",
       " 'B08JH3S7H5',\n",
       " 'B08JH4K318',\n",
       " 'B08JH4XPWP',\n",
       " 'B08JH4PFYT',\n",
       " 'B08JH2WPMF',\n",
       " 'B08JH4C8KJ',\n",
       " 'B08JF67V1N',\n",
       " 'B08JH41VXG',\n",
       " 'B08JH5PB7J',\n",
       " 'B08JH3TSXN',\n",
       " 'B08JH7FJG5',\n",
       " 'B08JH4MW4H',\n",
       " 'B08JH4J9YR',\n",
       " 'B08JH37T8M',\n",
       " 'B08JH4MKPN',\n",
       " 'B08JH6QSVH',\n",
       " 'B08JH2ZKXK',\n",
       " 'B08JH3KWXP',\n",
       " 'B08JH4GZ7Q',\n",
       " 'B08JH53KKL',\n",
       " 'B08JH45QZX',\n",
       " 'B08JH3971L',\n",
       " 'B08JH2P7HH',\n",
       " 'B08JH5PM7M',\n",
       " 'B08JH4XNCG',\n",
       " 'B08JH3LDMT',\n",
       " 'B08JH33BJD',\n",
       " 'B08JH3MXFL',\n",
       " 'B08JH64Z94',\n",
       " 'B08JH57SNL',\n",
       " 'B08JH5W35L',\n",
       " 'B08JH68J5M',\n",
       " 'B08JH5PM7L',\n",
       " 'B08JH58VZX',\n",
       " 'B08JH4Q69P',\n",
       " 'B08JH4C8GT',\n",
       " 'B08JH2KHK8',\n",
       " 'B08JH4C88J',\n",
       " 'B08JH39NH2',\n",
       " 'B08JH5ZR2C',\n",
       " 'B08JH4X2C2',\n",
       " 'B08JH693M7',\n",
       " 'B097CJR5SK',\n",
       " 'B097CGHK1X',\n",
       " 'B097CK35RL',\n",
       " 'B097CHHVWB',\n",
       " 'B097CJVG3J',\n",
       " 'B097CJ1WMT',\n",
       " 'B097CJVSVL',\n",
       " 'B097CK8WNH',\n",
       " 'B097CJ6PX9',\n",
       " 'B097CH6D6Q',\n",
       " 'B097CJQ6H3',\n",
       " 'B097CH4FMN',\n",
       " 'B08KDJMVZ5',\n",
       " 'B08KDJ9RY7',\n",
       " 'B08KDTF9LP',\n",
       " 'B08KDM41W7',\n",
       " 'B07179VL9X',\n",
       " 'B071SL6GZD',\n",
       " 'B091TC2ZM5',\n",
       " 'B091TC2MXH',\n",
       " 'B091SWN2L9',\n",
       " 'B097CH5GKF']"
      ]
     },
     "execution_count": 30,
     "metadata": {},
     "output_type": "execute_result"
    }
   ],
   "source": [
    "[d.split(\"/\")[-1].strip() for d in data][:100]"
   ]
  },
  {
   "cell_type": "code",
   "execution_count": 11,
   "metadata": {},
   "outputs": [
    {
     "data": {
      "text/plain": [
       "4"
      ]
     },
     "execution_count": 11,
     "metadata": {},
     "output_type": "execute_result"
    }
   ],
   "source": [
    "mp.cpu_count()"
   ]
  },
  {
   "cell_type": "code",
   "execution_count": null,
   "metadata": {},
   "outputs": [],
   "source": [
    "B091SWN2L9"
   ]
  },
  {
   "cell_type": "code",
   "execution_count": null,
   "metadata": {},
   "outputs": [],
   "source": []
  },
  {
   "cell_type": "code",
   "execution_count": null,
   "metadata": {},
   "outputs": [],
   "source": []
  }
 ],
 "metadata": {
  "kernelspec": {
   "display_name": "Python 3",
   "language": "python",
   "name": "python3"
  },
  "language_info": {
   "codemirror_mode": {
    "name": "ipython",
    "version": 3
   },
   "file_extension": ".py",
   "mimetype": "text/x-python",
   "name": "python",
   "nbconvert_exporter": "python",
   "pygments_lexer": "ipython3",
   "version": "3.6.9"
  }
 },
 "nbformat": 4,
 "nbformat_minor": 2
}
